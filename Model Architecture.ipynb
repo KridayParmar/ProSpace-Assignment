{
 "cells": [
  {
   "cell_type": "code",
   "execution_count": null,
   "id": "ddd5250d",
   "metadata": {},
   "outputs": [],
   "source": [
    "import os\n",
    "\n",
    "tif_directory = \"C:/Users/KRIDAY PARMAR/Downloads/prospace_assignment/prospace_assignment\"\n",
    "\n",
    "tif_files = [file for file in os.listdir(tif_directory) if file.endswith('.tif')]\n",
    "\n",
    "num_tif_images = len(tif_files)\n",
    "\n",
    "print(\"Number of TIF images:\", num_tif_images)\n"
   ]
  },
  {
   "cell_type": "code",
   "execution_count": null,
   "id": "2443952e",
   "metadata": {},
   "outputs": [],
   "source": [
    "import os\n",
    "import numpy as np\n",
    "import cv2\n",
    "import rasterio\n",
    "from sklearn.model_selection import train_test_split\n",
    "import tensorflow as tf\n",
    "from tensorflow.keras import layers, models\n",
    "\n",
    "\n",
    "def read_tif_image(file_path):\n",
    "    with rasterio.open(file_path) as src:\n",
    "        # Read each band separately\n",
    "        bands = [src.read(band_idx) for band_idx in range(1, src.count + 1)]\n",
    "    return bands\n",
    "\n",
    "def preprocess_image(image, target_size):\n",
    "    resized_image = cv2.resize(image, target_size)\n",
    "    resized_image = resized_image / 255.0\n",
    "    return resized_image\n",
    "\n",
    "\n",
    "tif_directory = \"C:/Users/KRIDAY PARMAR/Downloads/prospace_assignment/prospace_assignment\"\n",
    "\n",
    "\n",
    "tif_files = [os.path.join(tif_directory, file) for file in os.listdir(tif_directory) if file.endswith('.tif')]\n",
    "\n",
    "images = [read_tif_image(file) for file in tif_files]\n",
    "target_size = (20, 20)  # Target size for resizing\n",
    "\n",
    "# Resize each band and stack them to form a single image\n",
    "resized_images = []\n",
    "for image in images:\n",
    "    resized_bands = [preprocess_image(band, target_size) for band in image]\n",
    "    resized_image = np.stack(resized_bands, axis=-1)  # Stack bands along the last dimension\n",
    "    resized_images.append(resized_image)\n",
    "\n",
    "# Convert the list of resized images to a numpy array\n",
    "resized_images = np.array(resized_images)\n",
    "\n",
    "# Define the CNN model\n",
    "def create_cnn_model(input_shape):\n",
    "    model = models.Sequential([\n",
    "        layers.Conv2D(32, (3, 3), activation='relu', input_shape=input_shape),\n",
    "        layers.MaxPooling2D((2, 2)),\n",
    "        layers.Conv2D(64, (3, 3), activation='relu'),\n",
    "        layers.MaxPooling2D((2, 2)),\n",
    "        layers.Conv2D(64, (3, 3), activation='relu'),\n",
    "        layers.Flatten(),\n",
    "        layers.Dense(64, activation='relu')\n",
    "    ])\n",
    "    return model\n",
    "\n",
    "input_shape = (target_size[0], target_size[1], resized_images.shape[3])  \n",
    "\n",
    "# Create the CNN model\n",
    "model = create_cnn_model(input_shape)\n",
    "model.summary()\n",
    " \n",
    "# Extract features from each image\n",
    "feature_vectors = []\n",
    "for image in resized_images:\n",
    "    features = model.predict(np.expand_dims(image, axis=0))\n",
    "    features = features.flatten()\n",
    "    feature_vectors.append(features)\n",
    "\n",
    "\n",
    "feature_vectors = np.array(feature_vectors)\n",
    "\n",
    "print(\"Shape of feature vectors:\", feature_vectors.shape)\n"
   ]
  },
  {
   "cell_type": "code",
   "execution_count": null,
   "id": "ea0e74ef",
   "metadata": {},
   "outputs": [],
   "source": [
    "from sklearn.cluster import KMeans\n",
    "\n",
    "\n",
    "num_clusters = 3\n",
    "\n",
    "kmeans = KMeans(n_clusters=num_clusters, random_state=42)\n",
    "cluster_labels = kmeans.fit_predict(feature_vectors)"
   ]
  },
  {
   "cell_type": "code",
   "execution_count": null,
   "id": "81d85a69",
   "metadata": {},
   "outputs": [],
   "source": [
    "file_cluster_mapping = dict(zip(tif_files, cluster_labels))\n",
    "\n",
    "for tif_file, cluster_label in file_cluster_mapping.items():\n",
    "    print(f\"TIF File: {tif_file} | Cluster Label: {cluster_label}\")"
   ]
  },
  {
   "cell_type": "code",
   "execution_count": null,
   "id": "3d2494bc",
   "metadata": {},
   "outputs": [],
   "source": [
    "from collections import Counter\n",
    "cluster_counts = Counter(cluster_labels)\n",
    "for cluster_label, count in cluster_counts.items():\n",
    "    print(f\"Cluster {cluster_label }: {count} points\")\n"
   ]
  },
  {
   "cell_type": "code",
   "execution_count": null,
   "id": "4e1749f8",
   "metadata": {
    "scrolled": true
   },
   "outputs": [],
   "source": [
    "import random\n",
    "import matplotlib.pyplot as plt\n",
    "\n",
    "random_indices = random.sample(range(len(tif_files)), 5)  \n",
    "random_images = [resized_images[i] for i in random_indices]\n",
    "random_cluster_labels = [cluster_labels[i] for i in random_indices]\n",
    "\n",
    "\n",
    "fig, axes = plt.subplots(nrows=1, ncols=len(random_images), figsize=(15, 5))\n",
    "\n",
    "for i, (image, cluster_label) in enumerate(zip(random_images, random_cluster_labels)):\n",
    "    axes[i].imshow(image)\n",
    "    axes[i].set_title(f'Cluster {cluster_label }')\n",
    "\n",
    "plt.tight_layout()\n",
    "plt.show()\n"
   ]
  },
  {
   "cell_type": "code",
   "execution_count": null,
   "id": "60766a1b",
   "metadata": {},
   "outputs": [],
   "source": [
    "model.save(\"prospace.h5\")"
   ]
  },
  {
   "cell_type": "code",
   "execution_count": null,
   "id": "9aa6e58f",
   "metadata": {},
   "outputs": [],
   "source": [
    "import pickle\n",
    "with open(\"cluster.pkl\", \"wb\") as f:\n",
    "    pickle.dump(cluster_labels, f)"
   ]
  },
  {
   "cell_type": "code",
   "execution_count": null,
   "id": "5e3f596b",
   "metadata": {},
   "outputs": [],
   "source": []
  }
 ],
 "metadata": {
  "kernelspec": {
   "display_name": "Python 3 (ipykernel)",
   "language": "python",
   "name": "python3"
  },
  "language_info": {
   "codemirror_mode": {
    "name": "ipython",
    "version": 3
   },
   "file_extension": ".py",
   "mimetype": "text/x-python",
   "name": "python",
   "nbconvert_exporter": "python",
   "pygments_lexer": "ipython3",
   "version": "3.11.5"
  }
 },
 "nbformat": 4,
 "nbformat_minor": 5
}
